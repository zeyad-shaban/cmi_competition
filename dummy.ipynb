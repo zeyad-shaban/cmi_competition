{
 "cells": [
  {
   "cell_type": "code",
   "execution_count": 57,
   "id": "6dfbdef4",
   "metadata": {},
   "outputs": [],
   "source": [
    "import numpy as np\n",
    "import matplotlib.pyplot as plt\n",
    "import pandas as pd\n",
    "import re"
   ]
  },
  {
   "cell_type": "code",
   "execution_count": null,
   "id": "677083e9",
   "metadata": {},
   "outputs": [
    {
     "ename": "TypeError",
     "evalue": "Must provide 'func' or tuples of '(column, aggfunc).",
     "output_type": "error",
     "traceback": [
      "\u001b[31m---------------------------------------------------------------------------\u001b[39m",
      "\u001b[31mTypeError\u001b[39m                                 Traceback (most recent call last)",
      "\u001b[36mCell\u001b[39m\u001b[36m \u001b[39m\u001b[32mIn[104]\u001b[39m\u001b[32m, line 21\u001b[39m\n\u001b[32m      1\u001b[39m data = {\n\u001b[32m      2\u001b[39m     \u001b[33m\"\u001b[39m\u001b[33mcity\u001b[39m\u001b[33m\"\u001b[39m: [\n\u001b[32m      3\u001b[39m         \u001b[33m\"\u001b[39m\u001b[33mLondon\u001b[39m\u001b[33m\"\u001b[39m,\u001b[33m\"\u001b[39m\u001b[33mTokyo\u001b[39m\u001b[33m\"\u001b[39m,\u001b[33m\"\u001b[39m\u001b[33mOslo\u001b[39m\u001b[33m\"\u001b[39m,\u001b[33m\"\u001b[39m\u001b[33mTokyo\u001b[39m\u001b[33m\"\u001b[39m,\u001b[33m\"\u001b[39m\u001b[33mNew York\u001b[39m\u001b[33m\"\u001b[39m,\u001b[33m\"\u001b[39m\u001b[33mOsaka\u001b[39m\u001b[33m\"\u001b[39m,\n\u001b[32m   (...)\u001b[39m\u001b[32m     16\u001b[39m     ]\n\u001b[32m     17\u001b[39m }\n\u001b[32m     19\u001b[39m df = pd.DataFrame(data)\n\u001b[32m---> \u001b[39m\u001b[32m21\u001b[39m \u001b[43mdf\u001b[49m\u001b[43m.\u001b[49m\u001b[43mgroupby\u001b[49m\u001b[43m(\u001b[49m\u001b[33;43m'\u001b[39;49m\u001b[33;43mcity\u001b[39;49m\u001b[33;43m'\u001b[39;49m\u001b[43m)\u001b[49m\u001b[43m.\u001b[49m\u001b[43magg\u001b[49m\u001b[43m(\u001b[49m\u001b[43mmean_val\u001b[49m\u001b[43m=\u001b[49m\u001b[43m[\u001b[49m\u001b[33;43m\"\u001b[39;49m\u001b[33;43mmean\u001b[39;49m\u001b[33;43m\"\u001b[39;49m\u001b[43m]\u001b[49m\u001b[43m)\u001b[49m\n",
      "\u001b[36mFile \u001b[39m\u001b[32m~/.pyenv/versions/aienv/lib/python3.12/site-packages/pandas/core/groupby/generic.py:1422\u001b[39m, in \u001b[36mDataFrameGroupBy.aggregate\u001b[39m\u001b[34m(self, func, engine, engine_kwargs, *args, **kwargs)\u001b[39m\n\u001b[32m   1420\u001b[39m \u001b[38;5;129m@doc\u001b[39m(_agg_template_frame, examples=_agg_examples_doc, klass=\u001b[33m\"\u001b[39m\u001b[33mDataFrame\u001b[39m\u001b[33m\"\u001b[39m)\n\u001b[32m   1421\u001b[39m \u001b[38;5;28;01mdef\u001b[39;00m\u001b[38;5;250m \u001b[39m\u001b[34maggregate\u001b[39m(\u001b[38;5;28mself\u001b[39m, func=\u001b[38;5;28;01mNone\u001b[39;00m, *args, engine=\u001b[38;5;28;01mNone\u001b[39;00m, engine_kwargs=\u001b[38;5;28;01mNone\u001b[39;00m, **kwargs):\n\u001b[32m-> \u001b[39m\u001b[32m1422\u001b[39m     relabeling, func, columns, order = \u001b[43mreconstruct_func\u001b[49m\u001b[43m(\u001b[49m\u001b[43mfunc\u001b[49m\u001b[43m,\u001b[49m\u001b[43m \u001b[49m\u001b[43m*\u001b[49m\u001b[43m*\u001b[49m\u001b[43mkwargs\u001b[49m\u001b[43m)\u001b[49m\n\u001b[32m   1423\u001b[39m     func = maybe_mangle_lambdas(func)\n\u001b[32m   1425\u001b[39m     \u001b[38;5;28;01mif\u001b[39;00m maybe_use_numba(engine):\n\u001b[32m   1426\u001b[39m         \u001b[38;5;66;03m# Not all agg functions support numba, only propagate numba kwargs\u001b[39;00m\n\u001b[32m   1427\u001b[39m         \u001b[38;5;66;03m# if user asks for numba\u001b[39;00m\n",
      "\u001b[36mFile \u001b[39m\u001b[32m~/.pyenv/versions/aienv/lib/python3.12/site-packages/pandas/core/apply.py:1691\u001b[39m, in \u001b[36mreconstruct_func\u001b[39m\u001b[34m(func, **kwargs)\u001b[39m\n\u001b[32m   1685\u001b[39m         \u001b[38;5;28;01mraise\u001b[39;00m SpecificationError(\n\u001b[32m   1686\u001b[39m             \u001b[33m\"\u001b[39m\u001b[33mFunction names must be unique if there is no new column names \u001b[39m\u001b[33m\"\u001b[39m\n\u001b[32m   1687\u001b[39m             \u001b[33m\"\u001b[39m\u001b[33massigned\u001b[39m\u001b[33m\"\u001b[39m\n\u001b[32m   1688\u001b[39m         )\n\u001b[32m   1689\u001b[39m     \u001b[38;5;28;01mif\u001b[39;00m func \u001b[38;5;129;01mis\u001b[39;00m \u001b[38;5;28;01mNone\u001b[39;00m:\n\u001b[32m   1690\u001b[39m         \u001b[38;5;66;03m# nicer error message\u001b[39;00m\n\u001b[32m-> \u001b[39m\u001b[32m1691\u001b[39m         \u001b[38;5;28;01mraise\u001b[39;00m \u001b[38;5;167;01mTypeError\u001b[39;00m(\u001b[33m\"\u001b[39m\u001b[33mMust provide \u001b[39m\u001b[33m'\u001b[39m\u001b[33mfunc\u001b[39m\u001b[33m'\u001b[39m\u001b[33m or tuples of \u001b[39m\u001b[33m'\u001b[39m\u001b[33m(column, aggfunc).\u001b[39m\u001b[33m\"\u001b[39m)\n\u001b[32m   1693\u001b[39m \u001b[38;5;28;01mif\u001b[39;00m relabeling:\n\u001b[32m   1694\u001b[39m     \u001b[38;5;66;03m# error: Incompatible types in assignment (expression has type\u001b[39;00m\n\u001b[32m   1695\u001b[39m     \u001b[38;5;66;03m# \"MutableMapping[Hashable, list[Callable[..., Any] | str]]\", variable has type\u001b[39;00m\n\u001b[32m   1696\u001b[39m     \u001b[38;5;66;03m# \"Callable[..., Any] | str | list[Callable[..., Any] | str] |\u001b[39;00m\n\u001b[32m   1697\u001b[39m     \u001b[38;5;66;03m# MutableMapping[Hashable, Callable[..., Any] | str | list[Callable[..., Any] |\u001b[39;00m\n\u001b[32m   1698\u001b[39m     \u001b[38;5;66;03m# str]] | None\")\u001b[39;00m\n\u001b[32m   1699\u001b[39m     func, columns, order = normalize_keyword_aggregation(  \u001b[38;5;66;03m# type: ignore[assignment]\u001b[39;00m\n\u001b[32m   1700\u001b[39m         kwargs\n\u001b[32m   1701\u001b[39m     )\n",
      "\u001b[31mTypeError\u001b[39m: Must provide 'func' or tuples of '(column, aggfunc)."
     ]
    }
   ],
   "source": [
    "data = {\n",
    "    \"city\": [\n",
    "        \"London\",\"Tokyo\",\"Oslo\",\"Tokyo\",\"New York\",\"Osaka\",\n",
    "        \"Boston\",\"Cairo\",\"Toronto\",\"Tokyo\",\"Chicago\",\"Monaco\",\n",
    "        \"Doha\",\"Kyoto\",\"Moscow\",\"Moscow\",\"Rome\",\"Houston\",\"Oslo\",\"Boston\"\n",
    "    ],\n",
    "    \"age\": [\n",
    "        22, 34, 28, 30, 30, 40,\n",
    "        27, 32, 35, 31, 29, 31,\n",
    "        25, 38, 33, 26, 26, 24, 29, 33\n",
    "    ],\n",
    "    \"score\": [\n",
    "        80,90,85,87,88,95,\n",
    "        70,65,78,92,82,91,\n",
    "        75,60,99,77,55,73,84,88\n",
    "    ]\n",
    "}\n",
    "\n",
    "df = pd.DataFrame(data)\n",
    "\n"
   ]
  }
 ],
 "metadata": {
  "kernelspec": {
   "display_name": "aienv",
   "language": "python",
   "name": "python3"
  },
  "language_info": {
   "codemirror_mode": {
    "name": "ipython",
    "version": 3
   },
   "file_extension": ".py",
   "mimetype": "text/x-python",
   "name": "python",
   "nbconvert_exporter": "python",
   "pygments_lexer": "ipython3",
   "version": "3.12.11"
  }
 },
 "nbformat": 4,
 "nbformat_minor": 5
}
