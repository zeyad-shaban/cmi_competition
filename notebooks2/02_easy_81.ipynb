{
 "cells": [
  {
   "cell_type": "markdown",
   "id": "fe6bd7c8",
   "metadata": {},
   "source": [
    "Reference: https://www.kaggle.com/code/hzning/0-81-easy-is-all-you-need"
   ]
  },
  {
   "cell_type": "code",
   "execution_count": 19,
   "id": "ee99a45a",
   "metadata": {},
   "outputs": [],
   "source": [
    "import numpy as np\n",
    "import pandas as pd\n",
    "import matplotlib.pyplot as plt\n",
    "# import polar as pl\n",
    "import torch.nn.functional as F\n",
    "import torch.nn as nn\n",
    "import torch\n",
    "import torch.optim as optim\n",
    "from torch.utils.data import Dataset, DataLoader\n",
    "from scipy.spatial.transform import Rotation as R\n",
    "from sklearn.model_selection import StratifiedKFold\n",
    "from sklearn.preprocessing import LabelEncoder, StandardScaler\n",
    "\n",
    "device = torch.device('cuda' if torch.cuda.is_available() else 'cpu')\n",
    "\n",
    "# Configures\n",
    "FOLDS = 5\n",
    "LR_INIT = 3e-3\n",
    "WD = 3e-5"
   ]
  },
  {
   "cell_type": "markdown",
   "id": "9bae2094",
   "metadata": {},
   "source": [
    "## 1. 📈 IMU and Gyro feature extraction"
   ]
  },
  {
   "cell_type": "code",
   "execution_count": 2,
   "id": "317bc9bd",
   "metadata": {},
   "outputs": [
    {
     "data": {
      "text/plain": [
       "torch.Size([64, 26, 40])"
      ]
     },
     "execution_count": 2,
     "metadata": {},
     "output_type": "execute_result"
    }
   ],
   "source": [
    "class ImuExtractor(nn.Module):\n",
    "    def __init__(self):\n",
    "        super().__init__()\n",
    "\n",
    "        k = 15  # todo try to change this\n",
    "        self.lpf_acc = nn.Conv1d(3, 3, k, padding=\"same\", groups=3, bias=False)\n",
    "        self.lpf_gyro = nn.Conv1d(3, 3, k, padding=\"same\", groups=3, bias=False)\n",
    "\n",
    "    def forward(self, imu: torch.Tensor):\n",
    "        B, C, T = imu.shape\n",
    "\n",
    "        acc = imu[:, :3, :]  # acc_x, acc_y, acc_z\n",
    "        gyro = imu[:, 3:6, :]  # gyro_x, gyro_y, gyro_z\n",
    "        extra = imu[:, 6:, :]\n",
    "\n",
    "        # 1) Magnitude\n",
    "        acc_mag = torch.norm(acc, dim=1, keepdim=True) # todo try bias=True as author did\n",
    "        gyro_mag = torch.norm(gyro, dim=1, keepdim=True)\n",
    "\n",
    "        # 2) Jerk\n",
    "        jerk = F.pad(acc_mag.diff(), (1, 0))\n",
    "        gyro_delta = F.pad(gyro_mag.diff(), (1, 0))\n",
    "\n",
    "        # 3) energy # todo try without this\n",
    "        acc_pow = acc**2\n",
    "        gyro_pow = gyro**2\n",
    "\n",
    "        # LPF / HPF\n",
    "        acc_lpf = self.lpf_acc(acc)\n",
    "        acc_hpf = acc - acc_lpf\n",
    "        gyro_lpf = self.lpf_gyro(gyro)\n",
    "        gyro_hpf = gyro - gyro_lpf\n",
    "\n",
    "        # fmt: off\n",
    "        features = [\n",
    "            acc, gyro,\n",
    "            jerk, gyro_delta,\n",
    "            acc_pow, gyro_pow,\n",
    "            acc_lpf, acc_hpf, gyro_lpf, gyro_hpf,\n",
    "        ]\n",
    "        # fmt: on\n",
    "\n",
    "        return torch.cat(features, dim=1)\n",
    "\n",
    "dummy_inp = torch.randn((64, 6, 40))\n",
    "ImuExtractor()(dummy_inp).shape"
   ]
  },
  {
   "cell_type": "markdown",
   "id": "99ee88d7",
   "metadata": {},
   "source": [
    "## 2. 🧠 Building Blocks"
   ]
  },
  {
   "cell_type": "code",
   "execution_count": 3,
   "id": "b71032ea",
   "metadata": {},
   "outputs": [
    {
     "name": "stderr",
     "output_type": "stream",
     "text": [
      "/home/zeyadcode/.pyenv/versions/aienv/lib/python3.12/site-packages/torch/nn/init.py:511: UserWarning: Initializing zero-element tensors is a no-op\n",
      "  warnings.warn(\"Initializing zero-element tensors is a no-op\")\n"
     ]
    },
    {
     "data": {
      "text/plain": [
       "torch.Size([64, 6, 40])"
      ]
     },
     "execution_count": 3,
     "metadata": {},
     "output_type": "execute_result"
    }
   ],
   "source": [
    "class SEBlock(nn.Module):\n",
    "    def __init__(self, c_in, r):\n",
    "        super().__init__()\n",
    "\n",
    "        self.squeeze = nn.AdaptiveAvgPool1d(1)\n",
    "        self.excitation = nn.Sequential(\n",
    "            nn.Linear(c_in, c_in // r, bias=False),  # todo try with bias\n",
    "            nn.ReLU(inplace=True),\n",
    "            nn.Linear(c_in // r, c_in, bias=False),  # todo try with bias\n",
    "            nn.Sigmoid(),\n",
    "        )\n",
    "\n",
    "    def forward(self, x: torch.Tensor):\n",
    "        squeezed = self.squeeze(x).squeeze(-1)  # B x C\n",
    "        weights = self.excitation(squeezed).unsqueeze(-1)  # B x C x 1\n",
    "\n",
    "        return weights * x\n",
    "\n",
    "\n",
    "SEBlock(6, 8)(dummy_inp).shape"
   ]
  },
  {
   "cell_type": "markdown",
   "id": "72d139a0",
   "metadata": {},
   "source": [
    "## 🥟 Baseline Network"
   ]
  },
  {
   "cell_type": "code",
   "execution_count": null,
   "id": "5dc35699",
   "metadata": {},
   "outputs": [
    {
     "data": {
      "text/plain": [
       "torch.Size([64, 5])"
      ]
     },
     "execution_count": 4,
     "metadata": {},
     "output_type": "execute_result"
    }
   ],
   "source": [
    "class BaseNet(nn.Module):\n",
    "    def __init__(self, c_in, n_classes):\n",
    "        super().__init__()\n",
    "\n",
    "        # fmt: off\n",
    "        self.cnn_layer = nn.Sequential(\n",
    "            nn.Conv1d(c_in, 32, 3, padding=\"same\"),\n",
    "            nn.BatchNorm1d(32),\n",
    "            nn.ReLU(),\n",
    "            nn.MaxPool1d(4),\n",
    "            nn.Dropout(0.1),\n",
    "            \n",
    "            nn.Conv1d(32, 64, 3, padding=\"same\"),\n",
    "            nn.BatchNorm1d(64),\n",
    "            nn.ReLU(),\n",
    "            nn.MaxPool1d(2),\n",
    "            nn.Dropout(0.1),\n",
    "        )\n",
    "        \n",
    "        self.pool_layer = nn.AdaptiveAvgPool1d(1)\n",
    "        \n",
    "        self.fc_layer = nn.Sequential(\n",
    "            nn.Linear(64, n_classes),\n",
    "        )\n",
    "        # fmt: on\n",
    "\n",
    "    def forward(self, x: torch.Tensor):\n",
    "        x = self.cnn_layer(x)\n",
    "        x = self.pool_layer(x).squeeze(-1)\n",
    "        x = self.fc_layer(x)\n",
    "        return x\n",
    "\n",
    "\n",
    "BaseNet(c_in=dummy_inp.shape[1], n_classes=5)(dummy_inp).shape"
   ]
  },
  {
   "cell_type": "markdown",
   "id": "9e79941f",
   "metadata": {},
   "source": [
    "## 🧹 Data Cleaning"
   ]
  },
  {
   "cell_type": "markdown",
   "id": "8c2b336f",
   "metadata": {},
   "source": [
    "## 👷 Feature Engineering"
   ]
  },
  {
   "cell_type": "code",
   "execution_count": 5,
   "id": "9fc66741",
   "metadata": {},
   "outputs": [],
   "source": [
    "dummy_df = pd.read_csv(\"../data/raw/train.csv\")\n",
    "dummy_demographs_df = pd.read_csv(\"../data/raw/train_demographics.csv\")\n",
    "df = pd.merge(\n",
    "    dummy_df,\n",
    "    dummy_demographs_df,\n",
    "    how=\"left\",\n",
    "    on=\"subject\",\n",
    ")\n",
    "\n",
    "df.drop(columns=[col for col in df.columns if col.startswith(\"tof_\")], inplace=True)"
   ]
  },
  {
   "cell_type": "code",
   "execution_count": 28,
   "id": "c761e524",
   "metadata": {},
   "outputs": [],
   "source": [
    "def get_linear_acc(df: pd.DataFrame):\n",
    "    acc = df[[\"acc_x\", \"acc_y\", \"acc_z\"]].values\n",
    "    quats = df[[\"rot_x\", \"rot_y\", \"rot_z\", \"rot_w\"]].values\n",
    "\n",
    "    zero_quat_mask = np.isclose(quats, 0).all(axis=1)\n",
    "    quats[zero_quat_mask] = np.array([0, 0, 0, 1])\n",
    "\n",
    "    rotation = R.from_quat(quats)\n",
    "    gravity_world = np.array([0, 0, 9.81])\n",
    "    gravity_sensor = rotation.inv().apply(gravity_world)\n",
    "    linear_acc = acc - gravity_sensor\n",
    "\n",
    "    result_df = pd.DataFrame(linear_acc, columns=[\"linear_acc_x\", \"linear_acc_y\", \"linear_acc_z\"], index=df.index)\n",
    "    return result_df\n",
    "\n",
    "\n",
    "def feature_engineer(df: pd.DataFrame, inplace=False):\n",
    "    if not inplace:\n",
    "        df = df.copy()\n",
    "    \n",
    "    df = df.ffill().bfill().fillna(0)\n",
    "    df[\"acc_mag\"] = np.linalg.norm(df[[\"acc_x\", \"acc_y\", \"acc_z\"]], axis=1)\n",
    "    df[\"rot_angle\"] = 2 * np.arccos(df[\"rot_w\"]).clip(-1, 1)\n",
    "    df[\"acc_mag_jerk\"] = df.groupby(\"sequence_id\")[\"acc_mag\"].diff().fillna(0)\n",
    "    df[\"rot_angle_vel\"] = df.groupby(\"sequence_id\")[\"rot_angle\"].diff().fillna(0)\n",
    "\n",
    "    # Linear Acceleration\n",
    "    df.drop(columns=[\"linear_acc_x\", \"linear_acc_y\", \"linear_acc_z\"], errors=\"ignore\", inplace=True)\n",
    "    linear_acc_df = df.groupby(\"sequence_id\").apply(get_linear_acc).droplevel(0)\n",
    "    df = df.join(linear_acc_df)\n",
    "    df[\"linear_acc_mag\"] = np.linalg.norm(df[[\"linear_acc_x\", \"linear_acc_y\", \"linear_acc_z\"]].values, axis=1)\n",
    "    df[[\"linear_jerk_x\", \"linear_jerk_y\", \"linear_jerk_z\"]] = df.groupby(\"sequence_id\")[[\"linear_acc_x\", \"linear_acc_y\", \"linear_acc_z\"]].diff().fillna(0)\n",
    "    \n",
    "    # Angular Distance\n",
    "    # Angular Velocity\n",
    "    \n",
    "    return df"
   ]
  },
  {
   "cell_type": "code",
   "execution_count": null,
   "id": "db2d4336",
   "metadata": {},
   "outputs": [
    {
     "data": {
      "text/plain": [
       "Rotation.from_matrix(array([[[-0.71159303,  0.53540577,  0.45494618],\n",
       "                             [ 0.10008689, -0.56367398,  0.81991113],\n",
       "                             [ 0.69542647,  0.62897719,  0.34751937]],\n",
       "                     \n",
       "                            [[-0.72723823,  0.52836582,  0.43812569],\n",
       "                             [ 0.05508883, -0.59131937,  0.80455368],\n",
       "                             [ 0.68417087,  0.60923802,  0.400923  ]],\n",
       "                     \n",
       "                            [[-0.75361443,  0.57504313,  0.31841905],\n",
       "                             [-0.18349828, -0.64921224,  0.7381408 ],\n",
       "                             [ 0.63118435,  0.49784421,  0.59477514]],\n",
       "                     \n",
       "                            ...,\n",
       "                     \n",
       "                            [[ 0.51943721,  0.83472896,  0.182791  ],\n",
       "                             [ 0.75953171, -0.54902959,  0.34882388],\n",
       "                             [ 0.39153106, -0.04235654, -0.91918951]],\n",
       "                     \n",
       "                            [[ 0.53017263,  0.82310962,  0.2034884 ],\n",
       "                             [ 0.73923453, -0.56626477,  0.36452232],\n",
       "                             [ 0.41527014, -0.04283411, -0.90868914]],\n",
       "                     \n",
       "                            [[ 0.53283616,  0.82299884,  0.1968719 ],\n",
       "                             [ 0.74570912, -0.56663703,  0.35048593],\n",
       "                             [ 0.40000442, -0.0399424 , -0.91564244]]]))"
      ]
     },
     "execution_count": 18,
     "metadata": {},
     "output_type": "execute_result"
    }
   ],
   "source": [
    "rot = cleaned_df[['rot_x', 'rot_y', 'rot_z', 'rot_w']].values\n",
    "rotation = R.from_quat(rot)\n",
    "# rotation.to_euler"
   ]
  },
  {
   "cell_type": "markdown",
   "id": "d82909f2",
   "metadata": {},
   "source": [
    "## 📁 Data Setup"
   ]
  },
  {
   "cell_type": "code",
   "execution_count": null,
   "id": "a9c711d6",
   "metadata": {},
   "outputs": [
    {
     "name": "stderr",
     "output_type": "stream",
     "text": [
      "/tmp/ipykernel_299290/1344906669.py:28: FutureWarning: DataFrameGroupBy.apply operated on the grouping columns. This behavior is deprecated, and in a future version of pandas the grouping columns will be excluded from the operation. Either pass `include_groups=False` to exclude the groupings or explicitly select the grouping columns after groupby to silence this warning.\n",
      "  linear_acc_df = df.groupby(\"sequence_id\").apply(get_linear_acc).droplevel(0)\n"
     ]
    }
   ],
   "source": [
    "cleaned_df = feature_engineer(cleaned_df)"
   ]
  },
  {
   "cell_type": "code",
   "execution_count": 36,
   "id": "b5f14869",
   "metadata": {},
   "outputs": [],
   "source": [
    "# fmt: off\n",
    "FEATURE_NAMES = [\n",
    "    'acc_x', 'acc_y', 'acc_z',\n",
    "    'linear_acc_x', 'linear_acc_y', 'linear_acc_z',\n",
    "    'rot_x', 'rot_y', 'rot_z', 'rot_w',\n",
    "]\n",
    "# fmt: on\n",
    "\n",
    "le = LabelEncoder()\n",
    "cleaned_df['gesture_int'] = le.fit_transform(cleaned_df['gesture'])\n",
    "\n",
    "scalar = StandardScaler()\n",
    "scaler = scalar.fit(cleaned_df[FEATURE_NAMES].values)"
   ]
  },
  {
   "cell_type": "markdown",
   "id": "0444c884",
   "metadata": {},
   "source": [
    "## 🏋️ Train"
   ]
  },
  {
   "cell_type": "code",
   "execution_count": null,
   "id": "db60e3d8",
   "metadata": {},
   "outputs": [],
   "source": [
    "epochs = 50\n",
    "criterion = nn.CrossEntropyLoss()\n",
    "\n",
    "skf = StratifiedKFold(n_splits=FOLDS, shuffle=True)\n",
    "\n",
    "for fold, (train_indices, test_indices) in enumerate(skf.split(uhhh)):\n",
    "    train_loader = DataLoader()\n",
    "    model = BaseNet(C, n_classes)\n",
    "    opt = optim.Adam(model.parameters(), lr=LR_INIT, weight_decay=WD)\n",
    "    \n",
    "    for epoch in range(epochs):\n",
    "        avg_loss = 0\n",
    "        for x, y in train_loader:\n",
    "            x = x.to(device)\n",
    "            y = y.to(device)\n",
    "            \n",
    "            y_pred = model(x)\n",
    "            loss = criterion(y_pred, y)\n",
    "            avg_loss += loss\n",
    "            \n",
    "            opt.zero_grad()\n",
    "            loss.backward()\n",
    "            opt.step()\n",
    "            \n",
    "        avg_loss /= len(train_loader)\n",
    "        print(f\"{epoch} - avg loss {avg_loss}\")"
   ]
  }
 ],
 "metadata": {
  "kernelspec": {
   "display_name": "aienv",
   "language": "python",
   "name": "python3"
  },
  "language_info": {
   "codemirror_mode": {
    "name": "ipython",
    "version": 3
   },
   "file_extension": ".py",
   "mimetype": "text/x-python",
   "name": "python",
   "nbconvert_exporter": "python",
   "pygments_lexer": "ipython3",
   "version": "3.12.11"
  }
 },
 "nbformat": 4,
 "nbformat_minor": 5
}
